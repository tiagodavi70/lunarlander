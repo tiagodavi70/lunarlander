{
 "cells": [
  {
   "cell_type": "code",
   "execution_count": 1,
   "id": "d917dc0a-ed04-45de-8f64-a9e0aeb94ac1",
   "metadata": {
    "tags": []
   },
   "outputs": [],
   "source": [
    "import os\n",
    "import pandas as pd\n",
    "import numpy as np"
   ]
  },
  {
   "cell_type": "code",
   "execution_count": 2,
   "id": "904ce4ec-8168-4c37-81e9-6e0fc551c681",
   "metadata": {
    "tags": []
   },
   "outputs": [],
   "source": [
    "df = pd.read_csv(\"dataTest/dataRaw.csv\")"
   ]
  },
  {
   "cell_type": "code",
   "execution_count": 3,
   "id": "b9e9be3f-b085-4027-90f0-0e696a4cfbec",
   "metadata": {
    "tags": []
   },
   "outputs": [
    {
     "data": {
      "text/html": [
       "<div>\n",
       "<style scoped>\n",
       "    .dataframe tbody tr th:only-of-type {\n",
       "        vertical-align: middle;\n",
       "    }\n",
       "\n",
       "    .dataframe tbody tr th {\n",
       "        vertical-align: top;\n",
       "    }\n",
       "\n",
       "    .dataframe thead th {\n",
       "        text-align: right;\n",
       "    }\n",
       "</style>\n",
       "<table border=\"1\" class=\"dataframe\">\n",
       "  <thead>\n",
       "    <tr style=\"text-align: right;\">\n",
       "      <th></th>\n",
       "      <th>Episode</th>\n",
       "      <th>Timestep</th>\n",
       "      <th>State</th>\n",
       "      <th>Action</th>\n",
       "      <th>Reward</th>\n",
       "    </tr>\n",
       "  </thead>\n",
       "  <tbody>\n",
       "    <tr>\n",
       "      <th>0</th>\n",
       "      <td>0</td>\n",
       "      <td>0</td>\n",
       "      <td>(0.0022999763, 1.4146769, 0.23294918, 0.166968...</td>\n",
       "      <td>0</td>\n",
       "      <td>0.000000</td>\n",
       "    </tr>\n",
       "    <tr>\n",
       "      <th>1</th>\n",
       "      <td>0</td>\n",
       "      <td>1</td>\n",
       "      <td>(0.0044879913, 1.4185586, 0.2219859, 0.1725040...</td>\n",
       "      <td>2</td>\n",
       "      <td>-0.456419</td>\n",
       "    </tr>\n",
       "    <tr>\n",
       "      <th>2</th>\n",
       "      <td>0</td>\n",
       "      <td>2</td>\n",
       "      <td>(0.0067523, 1.4218447, 0.23155478, 0.14602795,...</td>\n",
       "      <td>3</td>\n",
       "      <td>-0.128430</td>\n",
       "    </tr>\n",
       "    <tr>\n",
       "      <th>3</th>\n",
       "      <td>0</td>\n",
       "      <td>3</td>\n",
       "      <td>(0.009114742, 1.4255849, 0.24092484, 0.1661926...</td>\n",
       "      <td>2</td>\n",
       "      <td>-3.031584</td>\n",
       "    </tr>\n",
       "    <tr>\n",
       "      <th>4</th>\n",
       "      <td>0</td>\n",
       "      <td>4</td>\n",
       "      <td>(0.011404228, 1.4287283, 0.23177293, 0.1396774...</td>\n",
       "      <td>1</td>\n",
       "      <td>1.582462</td>\n",
       "    </tr>\n",
       "  </tbody>\n",
       "</table>\n",
       "</div>"
      ],
      "text/plain": [
       "   Episode  Timestep                                              State  \\\n",
       "0        0         0  (0.0022999763, 1.4146769, 0.23294918, 0.166968...   \n",
       "1        0         1  (0.0044879913, 1.4185586, 0.2219859, 0.1725040...   \n",
       "2        0         2  (0.0067523, 1.4218447, 0.23155478, 0.14602795,...   \n",
       "3        0         3  (0.009114742, 1.4255849, 0.24092484, 0.1661926...   \n",
       "4        0         4  (0.011404228, 1.4287283, 0.23177293, 0.1396774...   \n",
       "\n",
       "   Action    Reward  \n",
       "0       0  0.000000  \n",
       "1       2 -0.456419  \n",
       "2       3 -0.128430  \n",
       "3       2 -3.031584  \n",
       "4       1  1.582462  "
      ]
     },
     "execution_count": 3,
     "metadata": {},
     "output_type": "execute_result"
    }
   ],
   "source": [
    "df.head()"
   ]
  },
  {
   "cell_type": "code",
   "execution_count": 4,
   "id": "cf1163f7-be54-4502-8998-abf927d941fd",
   "metadata": {
    "tags": []
   },
   "outputs": [],
   "source": [
    "newCols = [\"x\", \"y\", \"lvx\", \"lvy\", \"angle\", \"av\", \"left\", \"right\"]"
   ]
  },
  {
   "cell_type": "code",
   "execution_count": 5,
   "id": "9f663d7f-b75a-4b71-bd68-e1aacc6f656d",
   "metadata": {
    "tags": []
   },
   "outputs": [],
   "source": [
    "observationSpace = df[\"State\"].apply(lambda x : [float(n) for n in x.replace(\"(\",\"\").replace(\")\",\"\").split(\",\")])"
   ]
  },
  {
   "cell_type": "code",
   "execution_count": 6,
   "id": "5701c9d7-605f-4469-89c3-125c3b45a582",
   "metadata": {
    "tags": []
   },
   "outputs": [
    {
     "data": {
      "text/plain": [
       "1000001"
      ]
     },
     "execution_count": 6,
     "metadata": {},
     "output_type": "execute_result"
    }
   ],
   "source": [
    "len(observationSpace)"
   ]
  },
  {
   "cell_type": "code",
   "execution_count": 7,
   "id": "6cf6bec6-7fc9-409b-b4ea-24a5b0539126",
   "metadata": {
    "tags": []
   },
   "outputs": [],
   "source": [
    "df[newCols] = list(observationSpace)"
   ]
  },
  {
   "cell_type": "code",
   "execution_count": 8,
   "id": "5db20e6a-3d4f-45b9-bafd-1c6da60a8592",
   "metadata": {
    "tags": []
   },
   "outputs": [],
   "source": [
    "newDf = df.drop([\"State\"], axis=1)"
   ]
  },
  {
   "cell_type": "code",
   "execution_count": 9,
   "id": "cc5a73b9-5a6d-4699-b2cd-8601c72acf97",
   "metadata": {
    "tags": []
   },
   "outputs": [],
   "source": [
    "newDf.to_csv(\"dataTest/RLLunarLanding2023.3.csv\", index=False)\n",
    "newDf[newDf[\"Episode\"] <= 1000].to_csv(\"dataTest/data.csv\", index=False)"
   ]
  }
 ],
 "metadata": {
  "kernelspec": {
   "display_name": "Python 3 (ipykernel)",
   "language": "python",
   "name": "python3"
  },
  "language_info": {
   "codemirror_mode": {
    "name": "ipython",
    "version": 3
   },
   "file_extension": ".py",
   "mimetype": "text/x-python",
   "name": "python",
   "nbconvert_exporter": "python",
   "pygments_lexer": "ipython3",
   "version": "3.11.4"
  }
 },
 "nbformat": 4,
 "nbformat_minor": 5
}
